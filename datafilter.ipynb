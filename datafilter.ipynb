{
 "cells": [
  {
   "cell_type": "code",
   "execution_count": 1,
   "metadata": {},
   "outputs": [],
   "source": [
    "import pandas as pd\n",
    "import numpy as np\n",
    "import datetime"
   ]
  },
  {
   "cell_type": "code",
   "execution_count": 2,
   "metadata": {},
   "outputs": [],
   "source": [
    "data=pd.read_csv('sales.csv',sep=';')\n",
    "\n",
    "# data=np.loadtxt(\"sales.csv\",delimiter=';')"
   ]
  },
  {
   "cell_type": "code",
   "execution_count": 3,
   "metadata": {},
   "outputs": [],
   "source": [
    "data=data.drop(columns=['SalesID','SalesPersonID','CustomerID','TransactionNumber','TotalPrice'])\n",
    "data=data[data['ProductID']==291]\n",
    "data=data.fillna(0)\n",
    "data=data[data['SalesDate']!=0]\n",
    "data['SalesTime']=0\n"
   ]
  },
  {
   "cell_type": "code",
   "execution_count": 4,
   "metadata": {},
   "outputs": [
    {
     "name": "stderr",
     "output_type": "stream",
     "text": [
      "C:\\Users\\Kieran\\Anaconda3\\lib\\site-packages\\pandas\\core\\indexing.py:190: SettingWithCopyWarning: \n",
      "A value is trying to be set on a copy of a slice from a DataFrame\n",
      "\n",
      "See the caveats in the documentation: http://pandas.pydata.org/pandas-docs/stable/indexing.html#indexing-view-versus-copy\n",
      "  self._setitem_with_indexer(indexer, value)\n"
     ]
    },
    {
     "name": "stdout",
     "output_type": "stream",
     "text": [
      "         ProductID  Quantity  Discount  SalesDate  SalesTime\n",
      "32             291        11       0.0         56        511\n",
      "133            291         9       0.1         92       1351\n",
      "824            291        25       0.0          1        744\n",
      "1217           291        11       0.0        120        722\n",
      "1552           291        17       0.0         10        955\n",
      "2977           291        18       0.1         72       1073\n",
      "3916           291        20       0.1         98        704\n",
      "4629           291         7       0.1         11        426\n",
      "4710           291         9       0.0         60        430\n",
      "7267           291         1       0.0         85        609\n",
      "7758           291         3       0.2         87        139\n",
      "8388           291        23       0.0        128       1379\n",
      "11386          291        23       0.0         68        492\n",
      "11402          291         6       0.2          0       1392\n",
      "11849          291         2       0.0        107       1232\n",
      "11883          291        25       0.0         33       1384\n",
      "12295          291        25       0.2        102        938\n",
      "12339          291         6       0.0         27       1263\n",
      "12460          291        14       0.1        121        243\n",
      "12613          291        23       0.0         35       1322\n",
      "14652          291         9       0.1        118        715\n",
      "14871          291         2       0.2         79         78\n",
      "15419          291         4       0.0         15        185\n",
      "16517          291        10       0.0        117        806\n",
      "16543          291        22       0.0        102        547\n",
      "16797          291        24       0.0        110        266\n",
      "16811          291        19       0.0        118       1060\n",
      "17093          291        15       0.0        111        369\n",
      "17202          291         5       0.0        112        456\n",
      "17586          291        24       0.2         59       1084\n",
      "...            ...       ...       ...        ...        ...\n",
      "6744198        291        18       0.2         96        430\n",
      "6744764        291        13       0.0         30        233\n",
      "6744769        291        22       0.0        118        501\n",
      "6745232        291        15       0.0         56        449\n",
      "6745254        291        25       0.0         69        574\n",
      "6746152        291        13       0.0         30       1033\n",
      "6746237        291         8       0.0         33       1293\n",
      "6746294        291         7       0.0         58       1222\n",
      "6747172        291         3       0.0         38       1016\n",
      "6747306        291        18       0.0          0        720\n",
      "6747707        291        19       0.0         71        257\n",
      "6748339        291        25       0.0        125       1191\n",
      "6748673        291        16       0.2        118        160\n",
      "6749154        291        10       0.1         15       1310\n",
      "6749332        291        22       0.0         35       1395\n",
      "6749589        291        21       0.2        113        668\n",
      "6750503        291        19       0.0         91        304\n",
      "6751374        291        11       0.0         41        301\n",
      "6752188        291        20       0.0         35        260\n",
      "6752751        291         2       0.0         61        523\n",
      "6752949        291        20       0.0        103        620\n",
      "6754016        291        13       0.1         19       1374\n",
      "6754544        291        19       0.0          0         44\n",
      "6754602        291         7       0.0        102        346\n",
      "6754813        291        14       0.0         20        357\n",
      "6755133        291        20       0.0         80        611\n",
      "6756121        291        13       0.0        109       1432\n",
      "6757055        291        18       0.0          0       1101\n",
      "6757129        291        19       0.0          0       1204\n",
      "6757844        291         2       0.0        117        242\n",
      "\n",
      "[14703 rows x 5 columns]\n"
     ]
    }
   ],
   "source": [
    "\n",
    "temp = datetime.date(2018,1,1)\n",
    "for i in range(len(data['SalesDate'])):\n",
    "\n",
    "    test=data['SalesDate'].iloc[i]\n",
    "    data_time_obj = datetime.datetime.strptime(test,'%Y-%m-%d %H:%M:%S.%f')\n",
    "\n",
    "    result = data_time_obj.date()\n",
    "    \n",
    "    check = abs(temp - result)\n",
    "    daysmodded=check.days%365\n",
    "    data['SalesDate'].iloc[i]=daysmodded\n",
    "    data['SalesTime'].iloc[i]=data_time_obj.hour*60+data_time_obj.minute\n",
    "print(data)"
   ]
  },
  {
   "cell_type": "code",
   "execution_count": 5,
   "metadata": {},
   "outputs": [],
   "source": [
    "np.savetxt('crabs.csv', data, delimiter=',')"
   ]
  },
  {
   "cell_type": "code",
   "execution_count": 8,
   "metadata": {},
   "outputs": [],
   "source": [
    "data.to_csv(r'crabs2.csv')"
   ]
  },
  {
   "cell_type": "code",
   "execution_count": null,
   "metadata": {},
   "outputs": [],
   "source": []
  }
 ],
 "metadata": {
  "kernelspec": {
   "display_name": "Python 3",
   "language": "python",
   "name": "python3"
  },
  "language_info": {
   "codemirror_mode": {
    "name": "ipython",
    "version": 3
   },
   "file_extension": ".py",
   "mimetype": "text/x-python",
   "name": "python",
   "nbconvert_exporter": "python",
   "pygments_lexer": "ipython3",
   "version": "3.6.7"
  }
 },
 "nbformat": 4,
 "nbformat_minor": 2
}
